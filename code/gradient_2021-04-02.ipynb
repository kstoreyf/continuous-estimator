{
 "cells": [
  {
   "cell_type": "markdown",
   "metadata": {},
   "source": [
    "# Detecting gradients with suave: Single-component basis"
   ]
  },
  {
   "cell_type": "code",
   "execution_count": 1,
   "metadata": {},
   "outputs": [],
   "source": [
    "import numpy as np\n",
    "import scipy\n",
    "from scipy.interpolate import BSpline\n",
    "from scipy.interpolate import _bspl\n",
    "from colossus.cosmology import cosmology\n",
    "\n",
    "%matplotlib inline\n",
    "import matplotlib.pyplot as plt\n",
    "import matplotlib\n",
    "\n",
    "from matplotlib import pylab\n",
    "%config InlineBackend.figure_format = 'retina'\n",
    "matplotlib.rcParams['figure.dpi'] = 150\n",
    "params = {'legend.fontsize': 'small',\n",
    "         'axes.labelsize': 'medium',\n",
    "         'axes.titlesize': 'medium',\n",
    "         'xtick.labelsize': 'medium',\n",
    "         'ytick.labelsize': 'medium',\n",
    "         'figure.autolayout': True,\n",
    "         'figure.figsize': (4,3),\n",
    "         'text.usetex': True,\n",
    "         'text.latex.preamble': [r\"\\usepackage{bm}\"]}\n",
    "pylab.rcParams.update(params)\n",
    "\n",
    "%load_ext autoreload\n",
    "%autoreload 2"
   ]
  },
  {
   "cell_type": "code",
   "execution_count": 2,
   "metadata": {},
   "outputs": [],
   "source": [
    "import Corrfunc\n",
    "from Corrfunc.io import read_lognormal_catalog\n",
    "from Corrfunc.theory.DDsmu import DDsmu\n",
    "from Corrfunc.utils import compute_amps\n",
    "from Corrfunc.utils import evaluate_xi\n",
    "from Corrfunc.utils import convert_3d_counts_to_cf"
   ]
  },
  {
   "cell_type": "markdown",
   "metadata": {},
   "source": [
    "Load a catalog:"
   ]
  },
  {
   "cell_type": "code",
   "execution_count": 3,
   "metadata": {},
   "outputs": [
    {
     "name": "stdout",
     "output_type": "stream",
     "text": [
      "Number of data points: 42876\n"
     ]
    }
   ],
   "source": [
    "L = 750.0\n",
    "x, y, z = read_lognormal_catalog('1e-4')\n",
    "nd = len(x)\n",
    "print(\"Number of data points:\",nd)"
   ]
  },
  {
   "cell_type": "markdown",
   "metadata": {},
   "source": [
    "Generate a random catalog:"
   ]
  },
  {
   "cell_type": "code",
   "execution_count": 4,
   "metadata": {},
   "outputs": [
    {
     "name": "stdout",
     "output_type": "stream",
     "text": [
      "Number of data points: 85752\n"
     ]
    }
   ],
   "source": [
    "randmult = 2\n",
    "nr = nd*randmult\n",
    "xr = np.random.rand(nr)*float(L)\n",
    "yr = np.random.rand(nr)*float(L)\n",
    "zr = np.random.rand(nr)*float(L)\n",
    "print(\"Number of data points:\", nr)"
   ]
  },
  {
   "cell_type": "code",
   "execution_count": 5,
   "metadata": {},
   "outputs": [],
   "source": [
    "def cosmo_bases(rmin, rmax, projfn, cosmo_base=None, ncont=2000, \n",
    "              redshift=0.0, bias=1.0):\n",
    "    '''\n",
    "    Compute the 5-component BAO basis functions based on a cosmological model and \n",
    "    linearized around the scale dilation parameter alpha.\n",
    "\n",
    "    Parameters\n",
    "    ----------\n",
    "    rmin : double\n",
    "        Minimum r-value for basis functions\n",
    "\n",
    "    rmax : double\n",
    "        Maximum r-value for basis functions \n",
    "\n",
    "    projfn : string, default=None\n",
    "        Path to projection file if necessary\n",
    "\n",
    "    cosmo_base : nbodykit cosmology object, default=nbodykit.cosmology.Planck15\n",
    "        Cosmology object for the BAO model.\n",
    "\n",
    "    ncont : int, default=2000\n",
    "        Number of continuous r-values at which to write the basis function file\n",
    "\n",
    "    redshift : double, default=0.0\n",
    "        Redshift at which to compute power spectrum\n",
    "\n",
    "    alpha_guess : double, default=1.0\n",
    "        The alpha (scale dilation parameter) at which to compute the model (alpha=1.0 is no scale shift)\n",
    "\n",
    "    dalpha : double, default=0.001\n",
    "        The change in alpha (scale dilation parameter) used to calculate the numerical partial derivative\n",
    "    \n",
    "    bias : double, default=1.0\n",
    "        The bias parameter by which to scale the model amplitude (bias=1.0 indicates no bias)\n",
    "\n",
    "    Returns\n",
    "    -------\n",
    "    bases: array-like, double\n",
    "        2-d array of basis function values; first column is r-values\n",
    "\n",
    "    '''\n",
    "    if cosmo_base is None:\n",
    "        print(\"cosmo_base not provided, defaulting to Planck 2015 cosmology ('planck15')\")\n",
    "        cosmo_base = cosmology.setCosmology('planck15')\n",
    "\n",
    "    cf = cosmo_base.correlationFunction\n",
    "\n",
    "    def cf_model(r):\n",
    "        return bias * cf(r, z=redshift)\n",
    "\n",
    "    rcont = np.linspace(rmin, rmax, ncont)\n",
    "    bs = cf_model(rcont)\n",
    "\n",
    "    nbases = 1\n",
    "    bases = np.empty((ncont, nbases+1))\n",
    "    bases[:,0] = rcont\n",
    "    bases[:,1] = np.array(bs)\n",
    "\n",
    "    np.savetxt(projfn, bases)\n",
    "    ncomponents = bases.shape[1]-1\n",
    "    return bases"
   ]
  },
  {
   "cell_type": "markdown",
   "metadata": {},
   "source": [
    "Set the parameters for suave:"
   ]
  },
  {
   "cell_type": "code",
   "execution_count": 6,
   "metadata": {},
   "outputs": [],
   "source": [
    "rmin = 40.0\n",
    "rmax = 140.0\n",
    "ntopbins = 10\n",
    "#r_edges is a dummy for now, don't need for gradient\n",
    "#but let's pass it something sensible for regular binned corrfunc for comparison\n",
    "r_edges = np.linspace(rmin, rmax, ntopbins+1) \n",
    "ncont = 2000\n",
    "r_fine = np.linspace(rmin, rmax, ncont)\n",
    "\n",
    "nmubins = 1\n",
    "mumax = 1.0\n",
    "periodic = False #assume non-periodic for gradient finding!\n",
    "nthreads = 2\n",
    "\n",
    "proj_type = 'gradient'\n",
    "weight_type = 'pair_product_gradient' #must set these waits\n",
    "projfn = 'cosmo_basis.dat'"
   ]
  },
  {
   "cell_type": "code",
   "execution_count": 7,
   "metadata": {},
   "outputs": [
    {
     "name": "stdout",
     "output_type": "stream",
     "text": [
      "cosmo_base not provided, defaulting to Planck 2015 cosmology ('planck15')\n"
     ]
    }
   ],
   "source": [
    "bases = cosmo_bases(rmin, rmax, projfn)\n",
    "ncomponents = 4*(bases.shape[1]-1) #minus 1 bc r column included\n",
    "r = bases[:,0]\n",
    "base_vals = bases[:,1]"
   ]
  },
  {
   "cell_type": "code",
   "execution_count": 8,
   "metadata": {},
   "outputs": [
    {
     "name": "stderr",
     "output_type": "stream",
     "text": [
      "No handles with labels found to put in legend.\n"
     ]
    },
    {
     "data": {
      "text/plain": [
       "Text(0, 0.5, '$\\\\xi(r)$')"
      ]
     },
     "execution_count": 8,
     "metadata": {},
     "output_type": "execute_result"
    },
    {
     "data": {
      "image/png": "[encoded data removed]",
      "text/plain": [
       "<Figure size 600x450 with 1 Axes>"
      ]
     },
     "metadata": {
      "image/png": {
       "height": 435,
       "width": 585
      },
      "needs_background": "light"
     },
     "output_type": "display_data"
    }
   ],
   "source": [
    "plt.figure(figsize=(4,3))\n",
    "ax = plt.gca()\n",
    "ax.plot(r, base_vals)\n",
    "ax.legend()\n",
    "ax.set_xlabel(r'separation $r$ ($h^{-1}\\,$Mpc)')\n",
    "ax.set_ylabel(r'$\\xi(r)$')"
   ]
  },
  {
   "cell_type": "markdown",
   "metadata": {},
   "source": [
    "We need weights for the gradient function. The code expects an array of shape (n_weights, n_data). The first weight is the general weight for the galaxy, e.g. for systematics correction; for now we take it to be 1 for all galaxies, as these are theory boxes. The second weight is the x position of the galaxies, and the third and fourth the y and z positions respectively. "
   ]
  },
  {
   "cell_type": "code",
   "execution_count": 9,
   "metadata": {},
   "outputs": [],
   "source": [
    "loc_pivot = [L/2., L/2., L/2.]\n",
    "weights = np.array([np.ones(len(x)), x-loc_pivot[0], y-loc_pivot[1], z-loc_pivot[2]])\n",
    "weights_r = np.array([np.ones(len(xr)), xr-loc_pivot[0], yr-loc_pivot[1], zr-loc_pivot[2]])"
   ]
  },
  {
   "cell_type": "markdown",
   "metadata": {},
   "source": [
    "Now we can run the pair counts! Make sure to pass the weights, the projection type, and the other parameters we set above."
   ]
  },
  {
   "cell_type": "code",
   "execution_count": null,
   "metadata": {},
   "outputs": [
    {
     "name": "stdout",
     "output_type": "stream",
     "text": [
      "DD: [ 40084.10360718 114600.68621062 -21710.12924006 193681.03128212]\n"
     ]
    }
   ],
   "source": [
    "dd_res, dd_proj, _ = DDsmu(1, nthreads, r_edges, mumax, nmubins, x, y, z, weights1=weights, \n",
    "                           proj_type=proj_type, ncomponents=ncomponents, projfn=projfn, \n",
    "                           periodic=periodic, weight_type=weight_type)\n",
    "print(\"DD:\", np.array(dd_proj))\n",
    "\n",
    "dr_res, dr_proj, _ = DDsmu(0, nthreads, r_edges, mumax, nmubins, x, y, z, weights1=weights, \n",
    "                           X2=xr, Y2=yr, Z2=zr, weights2=weights_r, \n",
    "                           proj_type=proj_type, ncomponents=ncomponents, projfn=projfn, \n",
    "                           periodic=periodic, weight_type=weight_type)\n",
    "print(\"DR:\", np.array(dr_proj))\n",
    "\n",
    "rr_res, rr_proj, qq_proj = DDsmu(1, nthreads, r_edges, mumax, nmubins, xr, yr, zr, weights1=weights_r, \n",
    "                                 proj_type=proj_type, ncomponents=ncomponents, projfn=projfn, \n",
    "                                 periodic=periodic, weight_type=weight_type)\n",
    "print(\"RR:\", np.array(rr_proj))"
   ]
  },
  {
   "cell_type": "code",
   "execution_count": null,
   "metadata": {},
   "outputs": [],
   "source": [
    "amps = compute_amps(ncomponents, nd, nd, nr, nr, dd_proj, dr_proj, dr_proj, rr_proj, qq_proj)\n",
    "xi_proj = evaluate_xi(amps, r_fine, proj_type, rbins=r_edges, projfn=projfn)"
   ]
  },
  {
   "cell_type": "markdown",
   "metadata": {},
   "source": [
    "Let's extract the standard binned values:"
   ]
  },
  {
   "cell_type": "code",
   "execution_count": null,
   "metadata": {},
   "outputs": [],
   "source": [
    "dd = np.array([x['npairs'] for x in dd_res], dtype=float)\n",
    "dr = np.array([x['npairs'] for x in dr_res], dtype=float)\n",
    "rr = np.array([x['npairs'] for x in rr_res], dtype=float)\n",
    "xi_standard = convert_3d_counts_to_cf(nd, nd, nr, nr, dd, dr, dr, rr)\n",
    "r_avg = 0.5*(r_edges[:-1] + r_edges[1:])"
   ]
  },
  {
   "cell_type": "markdown",
   "metadata": {},
   "source": [
    "Here is our estimated correlation function:"
   ]
  },
  {
   "cell_type": "code",
   "execution_count": null,
   "metadata": {},
   "outputs": [],
   "source": [
    "plt.figure(figsize=(4,3))\n",
    "ax = plt.gca()\n",
    "ax.plot(r_avg, xi_standard, ls='None', marker='o', color='grey', markersize=3, label='Standard binned')\n",
    "ax.plot(r_fine, xi_proj, label='Cosmo basis with gradient')\n",
    "ax.legend()\n",
    "ax.set_xlabel(r'separation $r$ ($h^{-1}\\,$Mpc)')\n",
    "ax.set_ylabel(r'$\\xi(r)$')"
   ]
  },
  {
   "cell_type": "markdown",
   "metadata": {},
   "source": [
    "Let's check the recovered gradient!"
   ]
  },
  {
   "cell_type": "code",
   "execution_count": null,
   "metadata": {},
   "outputs": [],
   "source": [
    "print(\"amps = \", amps)\n",
    "w_cont = amps[1:]/amps[0]\n",
    "w_cont_norm = np.linalg.norm(w_cont)\n",
    "w_cont_hat = w_cont/w_cont_norm\n",
    "print(\"w_cont = \", w_cont)\n",
    "print(f\"||w_cont|| = {w_cont_norm:.6f}\")\n",
    "b_guess = 0.5\n",
    "m_recovered_perL = w_cont_norm*b_guess*L\n",
    "print(f\"If we assume an initial b={b_guess}, this gives m = {m_recovered_perL:.4f}/L\")"
   ]
  },
  {
   "cell_type": "markdown",
   "metadata": {},
   "source": [
    "Cool, let's plot the correlation functions along the gradient axis:"
   ]
  },
  {
   "cell_type": "code",
   "execution_count": null,
   "metadata": {},
   "outputs": [],
   "source": [
    "fig = plt.figure()\n",
    "ax = plt.gca()\n",
    "\n",
    "v_min = -L/2.\n",
    "v_max = L/2.\n",
    "vs_norm = matplotlib.colors.Normalize(vmin=v_min, vmax=v_max)\n",
    "cmap = matplotlib.cm.get_cmap('cool')\n",
    "nvs = 10\n",
    "vs = np.linspace(v_min, v_max, nvs)\n",
    "\n",
    "for i, v in enumerate(vs):\n",
    "    \n",
    "    loc = loc_pivot + v*w_cont_hat\n",
    "    if i==len(vs)-1:\n",
    "        print(loc)\n",
    "    weights1 = np.array(np.concatenate(([1.0], loc-loc_pivot)))\n",
    "    weights2 = weights1 #because we just take the average of these and want to get this back\n",
    "    \n",
    "    xi_loc = evaluate_xi(amps, r_fine, proj_type, projfn=projfn, \n",
    "                     weights1=weights1, weights2=weights2, weight_type=weight_type)    \n",
    "    \n",
    "    p = plt.plot(r_fine, xi_loc, color=cmap(vs_norm(v)), lw=0.5)\n",
    "    \n",
    "    \n",
    "sm = plt.cm.ScalarMappable(cmap=cmap, norm=vs_norm)\n",
    "cbar = plt.colorbar(sm)\n",
    "cbar.set_label(r'$v \\,\\, (\\mathbf{x} = v\\hat{e}_\\mathrm{gradient} + \\mathbf{x}_\\mathrm{pivot})$', rotation=270, labelpad=12)\n",
    "ax.axhline(0, color='grey', lw=0.5)\n",
    "ax.set_xlabel(r'separation $r$ ($h^{-1}\\,$Mpc)')\n",
    "ax.set_ylabel(r'$\\xi(r)$')"
   ]
  },
  {
   "cell_type": "markdown",
   "metadata": {},
   "source": [
    "We can clearly see the gradient!"
   ]
  },
  {
   "cell_type": "code",
   "execution_count": null,
   "metadata": {},
   "outputs": [],
   "source": []
  }
 ],
 "metadata": {
  "kernelspec": {
   "display_name": "Python 3",
   "language": "python",
   "name": "python3"
  },
  "language_info": {
   "codemirror_mode": {
    "name": "ipython",
    "version": 3
   },
   "file_extension": ".py",
   "mimetype": "text/x-python",
   "name": "python",
   "nbconvert_exporter": "python",
   "pygments_lexer": "ipython3",
   "version": "3.7.3"
  }
 },
 "nbformat": 4,
 "nbformat_minor": 4
}
